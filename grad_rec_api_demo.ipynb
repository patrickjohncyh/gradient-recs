{
 "cells": [
  {
   "cell_type": "code",
   "execution_count": null,
   "metadata": {
    "collapsed": true
   },
   "outputs": [],
   "source": [
    "%load_ext autoreload\n",
    "%autoreload 2"
   ]
  },
  {
   "cell_type": "code",
   "execution_count": null,
   "outputs": [],
   "source": [
    "%reload_ext autoreload"
   ],
   "metadata": {
    "collapsed": false,
    "pycharm": {
     "name": "#%%\n"
    }
   }
  },
  {
   "cell_type": "code",
   "execution_count": null,
   "outputs": [],
   "source": [
    "# Load some envs since we are using a private bucket for now\n",
    "from dotenv import load_dotenv\n",
    "load_dotenv('.env')\n",
    "from fashion_clip.fashion_clip import FCLIPDataset, FashionCLIP\n",
    "from fashion_clip.utils import display_images_from_url\n",
    "from app.gradient_rec import GradREC"
   ],
   "metadata": {
    "collapsed": false,
    "pycharm": {
     "name": "#%%\n"
    }
   }
  },
  {
   "cell_type": "code",
   "execution_count": null,
   "outputs": [],
   "source": [
    "# load a FashionCLIP modfel\n",
    "dataset = FCLIPDataset(name='FF',\n",
    "                       image_source_type='s3',\n",
    "                       image_source_path ='s3://farfetch-images-ztapq86olwi6kub2p79d/images/')\n",
    "fclip = FashionCLIP('FCLIP', dataset)"
   ],
   "metadata": {
    "collapsed": false,
    "pycharm": {
     "name": "#%%\n"
    }
   }
  },
  {
   "cell_type": "code",
   "execution_count": null,
   "outputs": [],
   "source": [
    "# instantiate GradREC object\n",
    "gradrec =  GradREC(fclip)"
   ],
   "metadata": {
    "collapsed": false,
    "pycharm": {
     "name": "#%%\n"
    }
   }
  },
  {
   "cell_type": "code",
   "execution_count": null,
   "outputs": [],
   "source": [
    "# Supply a start and end query to obtain semantic direction of traversal\n",
    "start_query = 'long skirt'\n",
    "end_query = 'short skirt'\n",
    "v_dir = gradrec.direction_vector(start_query=start_query, end_query=end_query)"
   ],
   "metadata": {
    "collapsed": false,
    "pycharm": {
     "name": "#%%\n"
    }
   }
  },
  {
   "cell_type": "code",
   "execution_count": null,
   "outputs": [],
   "source": [
    "# Use FashionCLIP retrieval to get some initial seed products\n",
    "start_points = fclip.retrieval([start_query])"
   ],
   "metadata": {
    "collapsed": false,
    "pycharm": {
     "name": "#%%\n"
    }
   }
  },
  {
   "cell_type": "code",
   "execution_count": null,
   "outputs": [],
   "source": [
    "path = gradrec.traverse_space(start_point=fclip.image_vectors[start_points[0][1]],\n",
    "                              search_space=fclip.image_vectors,\n",
    "                              v_dir=v_dir,\n",
    "                              step_size=-2.0,\n",
    "                              steps=20,\n",
    "                              reg_space=fclip.image_vectors,\n",
    "                              reg_weight=0.9)\n",
    "# convert path from index to id\n",
    "path = [[dataset.ids[idx] for idx in p] for p in path]"
   ],
   "metadata": {
    "collapsed": false,
    "pycharm": {
     "name": "#%%\n"
    }
   }
  },
  {
   "cell_type": "code",
   "execution_count": null,
   "outputs": [],
   "source": [
    "for p in path:\n",
    "    dataset.display_products(p, fields=tuple(), columns=10)"
   ],
   "metadata": {
    "collapsed": false,
    "pycharm": {
     "name": "#%%\n"
    }
   }
  },
  {
   "cell_type": "code",
   "execution_count": null,
   "outputs": [],
   "source": [
    "print(path)\n"
   ],
   "metadata": {
    "collapsed": false,
    "pycharm": {
     "name": "#%%\n"
    }
   }
  },
  {
   "cell_type": "code",
   "execution_count": null,
   "outputs": [],
   "source": [],
   "metadata": {
    "collapsed": false,
    "pycharm": {
     "name": "#%%\n"
    }
   }
  }
 ],
 "metadata": {
  "kernelspec": {
   "display_name": "Python 3",
   "language": "python",
   "name": "python3"
  },
  "language_info": {
   "codemirror_mode": {
    "name": "ipython",
    "version": 2
   },
   "file_extension": ".py",
   "mimetype": "text/x-python",
   "name": "python",
   "nbconvert_exporter": "python",
   "pygments_lexer": "ipython2",
   "version": "2.7.6"
  }
 },
 "nbformat": 4,
 "nbformat_minor": 0
}